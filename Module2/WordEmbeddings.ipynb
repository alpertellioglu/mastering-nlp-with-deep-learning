{
 "cells": [
  {
   "cell_type": "markdown",
   "id": "d785abf0-279e-4bef-9c31-40107712e664",
   "metadata": {},
   "source": [
    "## Pre-trained embeddings"
   ]
  },
  {
   "cell_type": "code",
   "execution_count": 9,
   "id": "ff2a3b8b-ae54-4fd9-9058-9a71286bb34d",
   "metadata": {
    "collapsed": true,
    "jupyter": {
     "outputs_hidden": true
    }
   },
   "outputs": [
    {
     "name": "stdout",
     "output_type": "stream",
     "text": [
      "Requirement already satisfied: gensim in /Library/Frameworks/Python.framework/Versions/3.11/lib/python3.11/site-packages (4.3.2)\n",
      "Requirement already satisfied: numpy>=1.18.5 in /Library/Frameworks/Python.framework/Versions/3.11/lib/python3.11/site-packages (from gensim) (1.24.3)\n",
      "Requirement already satisfied: scipy>=1.7.0 in /Library/Frameworks/Python.framework/Versions/3.11/lib/python3.11/site-packages (from gensim) (1.11.4)\n",
      "Requirement already satisfied: smart-open>=1.8.1 in /Library/Frameworks/Python.framework/Versions/3.11/lib/python3.11/site-packages (from gensim) (6.4.0)\n",
      "\n",
      "\u001b[1m[\u001b[0m\u001b[34;49mnotice\u001b[0m\u001b[1;39;49m]\u001b[0m\u001b[39;49m A new release of pip available: \u001b[0m\u001b[31;49m22.3.1\u001b[0m\u001b[39;49m -> \u001b[0m\u001b[32;49m23.3.1\u001b[0m\n",
      "\u001b[1m[\u001b[0m\u001b[34;49mnotice\u001b[0m\u001b[1;39;49m]\u001b[0m\u001b[39;49m To update, run: \u001b[0m\u001b[32;49mpip3 install --upgrade pip\u001b[0m\n"
     ]
    }
   ],
   "source": [
    "!pip3 install gensim"
   ]
  },
  {
   "cell_type": "code",
   "execution_count": null,
   "id": "cbd4156d-709f-4464-8846-05afa243afec",
   "metadata": {
    "collapsed": true,
    "jupyter": {
     "outputs_hidden": true
    },
    "scrolled": true
   },
   "outputs": [
    {
     "name": "stdout",
     "output_type": "stream",
     "text": [
      "[======--------------------------------------------] 13.6% 226.3/1662.8MB downloaded"
     ]
    },
    {
     "name": "stderr",
     "output_type": "stream",
     "text": [
      "IOPub message rate exceeded.\n",
      "The Jupyter server will temporarily stop sending output\n",
      "to the client in order to avoid crashing it.\n",
      "To change this limit, set the config variable\n",
      "`--ServerApp.iopub_msg_rate_limit`.\n",
      "\n",
      "Current values:\n",
      "ServerApp.iopub_msg_rate_limit=1000.0 (msgs/sec)\n",
      "ServerApp.rate_limit_window=3.0 (secs)\n",
      "\n"
     ]
    },
    {
     "name": "stdout",
     "output_type": "stream",
     "text": [
      "[==============================--------------------] 61.4% 1021.5/1662.8MB downloaded"
     ]
    },
    {
     "name": "stderr",
     "output_type": "stream",
     "text": [
      "IOPub message rate exceeded.\n",
      "The Jupyter server will temporarily stop sending output\n",
      "to the client in order to avoid crashing it.\n",
      "To change this limit, set the config variable\n",
      "`--ServerApp.iopub_msg_rate_limit`.\n",
      "\n",
      "Current values:\n",
      "ServerApp.iopub_msg_rate_limit=1000.0 (msgs/sec)\n",
      "ServerApp.rate_limit_window=3.0 (secs)\n",
      "\n"
     ]
    },
    {
     "name": "stdout",
     "output_type": "stream",
     "text": [
      "[==========================================--------] 85.9% 1428.3/1662.8MB downloaded"
     ]
    },
    {
     "name": "stderr",
     "output_type": "stream",
     "text": [
      "IOPub message rate exceeded.\n",
      "The Jupyter server will temporarily stop sending output\n",
      "to the client in order to avoid crashing it.\n",
      "To change this limit, set the config variable\n",
      "`--ServerApp.iopub_msg_rate_limit`.\n",
      "\n",
      "Current values:\n",
      "ServerApp.iopub_msg_rate_limit=1000.0 (msgs/sec)\n",
      "ServerApp.rate_limit_window=3.0 (secs)\n",
      "\n"
     ]
    },
    {
     "name": "stdout",
     "output_type": "stream",
     "text": [
      "[===============================================---] 95.1% 1581.8/1662.8MB downloaded"
     ]
    }
   ],
   "source": [
    "import gensim.downloader as api\n",
    "\n",
    "word2vec = api.load('word2vec-google-news-300')"
   ]
  },
  {
   "cell_type": "code",
   "execution_count": 23,
   "id": "009fe992-2696-453f-a343-84fe5813933b",
   "metadata": {
    "collapsed": true,
    "jupyter": {
     "outputs_hidden": true
    }
   },
   "outputs": [
    {
     "name": "stdout",
     "output_type": "stream",
     "text": [
      "[==================================================] 100.0% 376.1/376.1MB downloaded\n"
     ]
    }
   ],
   "source": [
    "glove = api.load('glove-wiki-gigaword-300')"
   ]
  },
  {
   "cell_type": "code",
   "execution_count": null,
   "id": "8bd85696-7c4f-492b-8486-c8ead255dafe",
   "metadata": {
    "collapsed": true,
    "jupyter": {
     "outputs_hidden": true
    },
    "scrolled": true
   },
   "outputs": [
    {
     "name": "stdout",
     "output_type": "stream",
     "text": [
      "[=-------------------------------------------------] 2.4% 23.4/958.4MB downloaded"
     ]
    },
    {
     "name": "stderr",
     "output_type": "stream",
     "text": [
      "IOPub message rate exceeded.\n",
      "The Jupyter server will temporarily stop sending output\n",
      "to the client in order to avoid crashing it.\n",
      "To change this limit, set the config variable\n",
      "`--ServerApp.iopub_msg_rate_limit`.\n",
      "\n",
      "Current values:\n",
      "ServerApp.iopub_msg_rate_limit=1000.0 (msgs/sec)\n",
      "ServerApp.rate_limit_window=3.0 (secs)\n",
      "\n"
     ]
    },
    {
     "name": "stdout",
     "output_type": "stream",
     "text": [
      "[==------------------------------------------------] 5.8% 55.5/958.4MB downloaded"
     ]
    },
    {
     "name": "stderr",
     "output_type": "stream",
     "text": [
      "IOPub message rate exceeded.\n",
      "The Jupyter server will temporarily stop sending output\n",
      "to the client in order to avoid crashing it.\n",
      "To change this limit, set the config variable\n",
      "`--ServerApp.iopub_msg_rate_limit`.\n",
      "\n",
      "Current values:\n",
      "ServerApp.iopub_msg_rate_limit=1000.0 (msgs/sec)\n",
      "ServerApp.rate_limit_window=3.0 (secs)\n",
      "\n"
     ]
    },
    {
     "name": "stdout",
     "output_type": "stream",
     "text": [
      "[=================================================-] 98.5% 944.2/958.4MB downloaded"
     ]
    }
   ],
   "source": [
    "fasttext_model = api.load('fasttext-wiki-news-subwords-300')"
   ]
  },
  {
   "cell_type": "code",
   "execution_count": 114,
   "id": "95c57b6f-9ec2-46a4-9cb2-c7de5df38925",
   "metadata": {
    "scrolled": true
   },
   "outputs": [
    {
     "data": {
      "text/plain": [
       "array([-1.3173e-01,  8.2252e-03, -4.9115e-02,  1.9050e-01, -8.0140e-02,\n",
       "       -4.3704e-02,  5.4014e-02, -1.5770e-01,  1.7366e-02, -6.3682e-02,\n",
       "       -3.5309e-02, -1.0383e-02,  3.7077e-02,  8.6940e-03,  1.2524e-02,\n",
       "        8.0532e-03,  3.6221e-02, -7.8963e-02,  5.9926e-02,  7.5806e-02,\n",
       "       -1.3051e-02,  8.9511e-02, -7.6000e-02,  2.2368e-02, -2.7079e-03,\n",
       "       -1.1801e-01, -2.1707e-04,  9.1305e-02,  1.9335e-02,  6.4755e-02,\n",
       "        1.6767e-03, -8.7875e-03,  4.7681e-02,  4.6194e-02,  6.0765e-03,\n",
       "       -8.1089e-02, -2.2951e-02, -8.4255e-02, -1.1056e-01,  3.6631e-02,\n",
       "       -9.0706e-02, -5.8909e-02, -1.5277e-01, -1.0573e-01,  6.0893e-02,\n",
       "        5.5942e-02, -5.0123e-02, -1.0179e-03,  5.0950e-02, -4.3039e-02,\n",
       "        5.1274e-02,  2.0234e-02, -5.0783e-02, -1.2145e-01, -3.3338e-03,\n",
       "       -2.3314e-02,  9.1701e-02,  4.1844e-03, -7.1584e-02, -1.1494e-01,\n",
       "       -5.3832e-02, -4.1383e-02,  1.9317e-01,  1.1936e-01, -7.1862e-02,\n",
       "       -7.1719e-02, -5.3918e-02,  9.0106e-02, -1.4384e-02, -4.9884e-02,\n",
       "       -3.2693e-02, -5.4307e-02,  1.0744e-01,  5.2375e-02, -1.2564e-01,\n",
       "       -1.4970e-02, -4.1296e-02,  2.4587e-02,  2.6073e-02, -1.0724e-01,\n",
       "       -7.4320e-02, -8.3024e-02, -1.8534e-02,  1.0437e-01,  1.0980e-03,\n",
       "       -2.7799e-03,  6.6654e-03, -1.4502e-02,  3.1187e-03,  4.4294e-02,\n",
       "        6.5360e-02,  6.3962e-02, -1.1459e-01, -9.9760e-02,  7.5195e-02,\n",
       "        6.0407e-02,  4.6507e-03,  3.4435e-03,  2.2611e-02,  1.2921e-01,\n",
       "       -4.5780e-04,  4.2142e-02, -1.3695e-03, -1.1607e-03,  2.5196e-02,\n",
       "       -1.6089e-01,  2.3866e-02,  1.2499e-01,  3.6196e-02,  1.4335e-02,\n",
       "       -7.4531e-02,  1.1224e-01,  3.2265e-02,  1.4272e-01,  6.4251e-02,\n",
       "        1.5562e-02, -2.7682e-02,  1.6290e-02, -2.5641e-02,  1.4403e-02,\n",
       "       -9.0408e-02, -2.2686e-02, -8.0900e-02, -7.1530e-02,  9.5313e-02,\n",
       "        2.8681e-02,  5.3568e-02, -1.4304e-01, -7.8774e-02,  5.2541e-02,\n",
       "       -5.5802e-02, -2.2695e-02,  6.7090e-03, -2.4263e-02, -1.0231e-01,\n",
       "       -8.3910e-02, -1.1072e-01,  7.9029e-02, -1.0186e-02,  7.0620e-02,\n",
       "        5.3676e-02,  2.6546e-02,  1.3727e-02,  7.2691e-02,  5.1156e-02,\n",
       "       -1.2132e-02,  4.1740e-02, -1.0037e-02,  2.5895e-02, -6.7975e-02,\n",
       "        5.4311e-03,  6.3870e-03,  7.6074e-02,  3.7721e-02, -2.9064e-02,\n",
       "       -5.3690e-02, -3.2621e-02, -7.4537e-02, -1.1926e-01,  3.4239e-02,\n",
       "        3.3650e-02, -2.5285e-02, -1.0987e-02, -8.3617e-02,  7.2959e-02,\n",
       "        2.3546e-03,  4.6494e-02,  1.1436e-01, -1.6780e-05,  4.2504e-02,\n",
       "       -1.7745e-02,  8.3414e-03,  1.3612e-02,  2.9922e-02,  2.3006e-02,\n",
       "        1.0602e-01, -3.6217e-02, -1.0499e-02,  4.7121e-03, -1.3706e-02,\n",
       "       -8.9689e-02,  4.1900e-02,  2.2526e-02, -1.7248e-01, -8.9271e-03,\n",
       "       -1.8164e-02,  4.8371e-02,  1.8906e-01,  7.1726e-02,  4.8317e-02,\n",
       "       -1.1840e-01,  3.8777e-02, -2.8679e-02, -3.7448e-02,  6.4036e-02,\n",
       "       -1.4455e-02,  1.9644e-02,  8.7858e-02, -2.6270e-02, -3.4774e-02,\n",
       "       -1.9948e-01,  5.0861e-02, -2.9811e-02, -1.2086e-02, -1.0507e-02,\n",
       "       -1.0038e-01,  8.1341e-02, -2.4949e-02,  5.0307e-02, -1.8349e-02,\n",
       "        1.8619e-01,  6.3901e-03, -3.4998e-02,  1.1706e-02, -1.1474e-02,\n",
       "        3.5743e-02,  3.4792e-02,  1.7755e-02,  6.0962e-02,  1.1139e-02,\n",
       "        4.9137e-02,  1.9466e-02, -1.3930e-02,  1.3103e-01, -8.4763e-03,\n",
       "       -8.4280e-02,  3.2387e-02,  4.8645e-02, -7.3137e-02,  2.8458e-02,\n",
       "        3.3951e-02, -6.6427e-02, -1.1953e-01,  2.3548e-02,  2.7033e-02,\n",
       "        7.9835e-02, -3.4999e-02, -1.2918e-01,  3.7657e-02, -8.5901e-02,\n",
       "        1.3334e-01,  1.0157e-01,  8.1477e-03, -4.1384e-02, -8.3518e-02,\n",
       "       -5.6840e-03,  1.7198e-01,  6.2914e-02, -3.8077e-02, -6.1944e-02,\n",
       "       -3.5063e-02, -2.5159e-02, -9.4236e-02,  6.5833e-02,  5.4420e-02,\n",
       "       -7.9028e-02, -7.7122e-02, -2.4582e-02, -1.6090e-02,  4.5174e-02,\n",
       "       -3.0826e-02, -2.2788e-02,  6.1227e-02, -1.1523e-01,  1.4651e-01,\n",
       "       -2.7860e-02, -2.0520e-02, -2.8551e-02, -5.0276e-02,  7.4979e-02,\n",
       "       -3.8086e-02,  1.3407e-01, -9.6591e-02, -5.2761e-02,  3.4921e-02,\n",
       "       -6.8454e-02, -2.9234e-02,  1.8266e-02,  5.7314e-02,  8.7287e-03,\n",
       "        6.6471e-02, -3.6971e-02,  1.0311e-01, -5.5316e-02, -5.9477e-02,\n",
       "       -5.6116e-02, -5.0524e-02, -3.7173e-02,  1.2628e-02, -7.6296e-03,\n",
       "       -5.7117e-02,  6.3727e-03, -8.2037e-02, -3.9698e-02,  3.8683e-02,\n",
       "       -1.2769e-01, -6.9763e-02,  6.9845e-02,  2.8841e-03,  7.1757e-02],\n",
       "      dtype=float32)"
      ]
     },
     "execution_count": 114,
     "metadata": {},
     "output_type": "execute_result"
    }
   ],
   "source": [
    "fasttext_model['apple']"
   ]
  },
  {
   "cell_type": "code",
   "execution_count": 115,
   "id": "d4fd7a78-b275-4383-842c-b194342e7b7d",
   "metadata": {},
   "outputs": [
    {
     "name": "stdout",
     "output_type": "stream",
     "text": [
      "300\n",
      "300\n",
      "300\n"
     ]
    }
   ],
   "source": [
    "print(len(word2vec['apple']))\n",
    "print(len(glove['apple']))\n",
    "print(len(fasttext_model['apple']))"
   ]
  },
  {
   "cell_type": "code",
   "execution_count": 127,
   "id": "460b3ca5-1985-48fb-b194-5528bbbeed58",
   "metadata": {},
   "outputs": [
    {
     "data": {
      "text/plain": [
       "[('apples', 0.720359742641449),\n",
       " ('pear', 0.6450697183609009),\n",
       " ('fruit', 0.6410146355628967),\n",
       " ('berry', 0.6302294731140137),\n",
       " ('pears', 0.6133960485458374),\n",
       " ('strawberry', 0.6058261394500732),\n",
       " ('peach', 0.6025872826576233),\n",
       " ('potato', 0.5960935354232788),\n",
       " ('grape', 0.5935865044593811),\n",
       " ('blueberry', 0.5866668224334717)]"
      ]
     },
     "execution_count": 127,
     "metadata": {},
     "output_type": "execute_result"
    }
   ],
   "source": [
    "word2vec.most_similar(\"apple\")"
   ]
  },
  {
   "cell_type": "code",
   "execution_count": 117,
   "id": "26f2eb7c-f2c7-4b4f-8313-9369ddd67823",
   "metadata": {
    "scrolled": true
   },
   "outputs": [
    {
     "data": {
      "text/plain": [
       "array([ 4.29687500e-02, -1.78222656e-01, -1.29089355e-01,  1.15234375e-01,\n",
       "        2.68554688e-03, -1.02294922e-01,  1.95800781e-01, -1.79504395e-01,\n",
       "        1.95312500e-02,  4.09919739e-01, -3.68164062e-01, -3.96484375e-01,\n",
       "       -1.56738281e-01,  1.46484375e-03, -9.30175781e-02, -1.16455078e-01,\n",
       "       -5.51757812e-02, -1.07574463e-01,  7.91015625e-02,  1.98974609e-01,\n",
       "        2.38525391e-01,  6.34002686e-02, -2.17285156e-02,  0.00000000e+00,\n",
       "        4.72412109e-02, -2.17773438e-01, -3.44726562e-01,  6.37207031e-02,\n",
       "        3.16406250e-01, -1.97631836e-01,  8.59375000e-02, -8.11767578e-02,\n",
       "       -3.71093750e-02,  3.15551758e-01, -3.41796875e-01, -4.68750000e-02,\n",
       "        9.76562500e-02,  8.39843750e-02, -9.71679688e-02,  5.17578125e-02,\n",
       "       -5.00488281e-02, -2.20947266e-01,  2.29492188e-01,  1.26403809e-01,\n",
       "        2.49023438e-01,  2.09960938e-02, -1.09863281e-01,  5.81054688e-02,\n",
       "       -3.35693359e-02,  1.29577637e-01,  2.41699219e-02,  3.48129272e-02,\n",
       "       -2.60009766e-01,  2.42309570e-01, -3.21777344e-01,  1.45416260e-02,\n",
       "       -1.59179688e-01, -8.37402344e-02,  1.65039062e-01,  1.58691406e-03,\n",
       "        3.09570312e-01,  3.16406250e-01,  7.38525391e-03,  2.41210938e-01,\n",
       "        4.90722656e-02, -9.86328125e-02,  2.90527344e-02,  1.49414062e-01,\n",
       "       -4.83398438e-02,  2.35595703e-01,  2.21191406e-01,  1.25488281e-01,\n",
       "       -1.38671875e-01,  1.54296875e-01,  7.18994141e-02,  1.29882812e-01,\n",
       "       -1.05712891e-01,  6.00585938e-02,  3.14697266e-01,  1.09619141e-01,\n",
       "        8.49609375e-02,  7.71484375e-02, -2.17285156e-02,  6.11572266e-02,\n",
       "       -1.89941406e-01,  2.07519531e-01, -1.63085938e-01,  1.13525391e-01,\n",
       "        2.01171875e-01,  6.06689453e-02,  1.27929688e-01, -3.11279297e-01,\n",
       "       -2.80151367e-01, -1.55883789e-01,  4.15039062e-02,  9.87854004e-02,\n",
       "        1.69555664e-01, -3.49121094e-02,  2.08496094e-01, -9.89990234e-02,\n",
       "        4.39453125e-03, -7.27539062e-02, -4.24804688e-02, -4.09179688e-01,\n",
       "       -2.76367188e-01,  1.64062500e-01, -5.57617188e-01, -2.02199936e-01,\n",
       "        2.12158203e-01, -9.81445312e-02,  2.30773926e-01,  2.75878906e-01,\n",
       "        1.68092728e-01, -4.50439453e-02,  1.71615601e-01, -3.77075195e-01,\n",
       "       -3.52478027e-03, -3.01513672e-01,  1.74224854e-01,  3.30078125e-01,\n",
       "        2.00683594e-01,  1.17736816e-01, -1.37695312e-01, -1.07421875e-01,\n",
       "        8.61816406e-02,  1.06445312e-01,  1.44531250e-01,  3.05175781e-03,\n",
       "        1.80664062e-02,  3.73535156e-02,  7.32421875e-03,  1.32812500e-01,\n",
       "        9.61914062e-02,  3.35998535e-01,  1.81152344e-01,  2.40905762e-01,\n",
       "       -8.49609375e-02, -1.10107422e-01,  2.11914062e-01,  5.85937500e-03,\n",
       "        1.62109375e-01, -4.15527344e-01,  1.39160156e-01,  1.01562500e-01,\n",
       "        1.44531250e-01, -1.09375000e-01,  4.88281250e-02,  6.15234375e-02,\n",
       "       -1.69921875e-01,  3.28369141e-02,  5.56640625e-02,  1.47460938e-01,\n",
       "       -2.24609375e-02, -2.73925781e-01, -2.81982422e-01, -1.39160156e-01,\n",
       "       -1.81884766e-01,  9.33532715e-02,  1.21093750e-01, -5.37109375e-03,\n",
       "       -1.87500000e-01,  3.05175781e-04,  5.52734375e-01, -9.71679688e-02,\n",
       "       -1.81640625e-01, -1.51855469e-01,  7.76367188e-02, -2.38281250e-01,\n",
       "       -2.63977051e-02,  2.25555420e-01, -3.02734375e-01,  1.34765625e-01,\n",
       "        3.23242188e-01,  1.25976562e-01,  3.51562500e-02, -2.04345703e-01,\n",
       "        2.96142578e-01,  1.03149414e-01, -4.76074219e-03,  1.69189453e-01,\n",
       "       -3.50585938e-01,  2.46887207e-02, -3.90502930e-01, -2.70507812e-01,\n",
       "        1.85241699e-02,  1.04492188e-01,  2.84179688e-01,  1.35009766e-01,\n",
       "       -5.95703125e-02,  1.88232422e-01,  8.88214111e-02,  3.24707031e-02,\n",
       "       -8.98437500e-02,  5.45043945e-02,  5.65185547e-02,  1.56860352e-01,\n",
       "       -9.70458984e-03, -7.08007812e-02,  5.71289062e-02, -3.08837891e-01,\n",
       "       -1.91894531e-01,  4.83398438e-02,  5.22460938e-02, -1.59667969e-01,\n",
       "       -4.49218750e-02, -7.37304688e-02,  5.51757812e-02,  2.12402344e-01,\n",
       "        2.05322266e-01, -2.73437500e-02,  7.86132812e-02,  3.19091797e-01,\n",
       "       -1.56982422e-01, -3.92822266e-01,  4.00390625e-02,  9.93652344e-02,\n",
       "       -1.97372437e-02, -8.25195312e-02,  2.53906250e-02,  3.10668945e-02,\n",
       "       -3.63769531e-02,  1.48925781e-02,  2.20703125e-01, -5.98144531e-02,\n",
       "        6.15234375e-02, -7.14111328e-02, -4.00390625e-02, -1.03515625e-01,\n",
       "        9.22851562e-02,  2.71789551e-01, -2.30224609e-01, -2.62695312e-01,\n",
       "       -5.61523438e-01,  1.38549805e-02,  1.09863281e-01,  7.22656250e-02,\n",
       "        4.58984375e-02, -3.31802368e-02, -8.03833008e-02, -6.10351562e-03,\n",
       "        2.09960938e-01, -3.86840820e-01,  1.44645691e-01,  8.05664062e-02,\n",
       "        2.96264648e-01, -1.17187500e-02, -2.34680176e-01,  1.32019043e-01,\n",
       "        2.53906250e-01, -2.46826172e-01,  1.03759766e-01,  1.14013672e-01,\n",
       "        1.71875000e-01, -5.61523438e-03,  2.05078125e-01,  6.34765625e-02,\n",
       "       -4.51293945e-01, -2.26562500e-01, -1.03027344e-01, -1.31469727e-01,\n",
       "        3.75976562e-02,  2.70996094e-01, -2.39257812e-01,  3.80859375e-02,\n",
       "       -3.90625000e-02, -9.42382812e-02,  8.30078125e-03,  7.03125000e-02,\n",
       "        2.75390625e-01,  3.31542969e-01, -1.07421875e-02,  3.72192383e-01,\n",
       "       -1.24511719e-01,  1.94335938e-01, -1.35620117e-01, -3.09570312e-01,\n",
       "       -2.36328125e-01, -1.26953125e-02, -2.76855469e-01,  1.57714844e-01,\n",
       "        3.07617188e-01, -2.32910156e-01,  3.25439453e-01,  1.36718750e-02,\n",
       "        1.99462891e-01, -2.61840820e-02, -8.08105469e-02, -7.50732422e-02,\n",
       "       -4.11109924e-02,  1.95556641e-01, -5.64270020e-02, -2.79296875e-01,\n",
       "       -2.75390625e-01, -4.04296875e-01, -1.75781250e-02, -5.85937500e-03,\n",
       "       -7.71484375e-02,  1.33789062e-01,  2.36816406e-01,  2.01538086e-01],\n",
       "      dtype=float32)"
      ]
     },
     "execution_count": 117,
     "metadata": {},
     "output_type": "execute_result"
    }
   ],
   "source": [
    "word2vec['king'] - word2vec['man'] + word2vec['woman']"
   ]
  },
  {
   "cell_type": "code",
   "execution_count": 118,
   "id": "2436772f-d57c-47e4-a612-cf8cb9a6b515",
   "metadata": {},
   "outputs": [
    {
     "data": {
      "text/plain": [
       "[('king', 0.8449392318725586),\n",
       " ('queen', 0.7300516366958618),\n",
       " ('monarch', 0.6454660296440125),\n",
       " ('princess', 0.6156251430511475),\n",
       " ('crown_prince', 0.5818676948547363),\n",
       " ('prince', 0.5777117609977722),\n",
       " ('kings', 0.5613663792610168),\n",
       " ('sultan', 0.5376776456832886),\n",
       " ('Queen_Consort', 0.5344247817993164),\n",
       " ('queens', 0.5289887189865112)]"
      ]
     },
     "execution_count": 118,
     "metadata": {},
     "output_type": "execute_result"
    }
   ],
   "source": [
    "result_vector = word2vec['king'] - word2vec['man'] + word2vec['woman']\n",
    "word2vec.similar_by_vector(result_vector)"
   ]
  },
  {
   "cell_type": "code",
   "execution_count": 125,
   "id": "79e00e12-4a1c-4533-85fd-66f83af6fe93",
   "metadata": {},
   "outputs": [
    {
     "data": {
      "text/plain": [
       "[('queen', 0.9390855431556702),\n",
       " ('queen-mother', 0.9078599214553833),\n",
       " ('king-', 0.8828967213630676),\n",
       " ('queen-consort', 0.882541835308075),\n",
       " ('child-king', 0.8680858016014099),\n",
       " ('monarch', 0.8670082688331604),\n",
       " ('ex-queen', 0.8654637932777405),\n",
       " ('princess', 0.8628991842269897),\n",
       " ('queen-', 0.8613532781600952),\n",
       " ('boy-king', 0.8604660630226135)]"
      ]
     },
     "execution_count": 125,
     "metadata": {},
     "output_type": "execute_result"
    }
   ],
   "source": [
    "fasttext_model.most_similar_cosmul(positive=['king', 'woman'], negative=['man']) # queen"
   ]
  },
  {
   "cell_type": "code",
   "execution_count": 120,
   "id": "6153566a-b2f6-4b6e-8cec-f3c6ca60133d",
   "metadata": {},
   "outputs": [
    {
     "data": {
      "text/plain": [
       "[('Tokyo', 1.000691533088684),\n",
       " ('Toyko', 0.9000736474990845),\n",
       " ('Osaka', 0.8887908458709717),\n",
       " ('Nagoya', 0.880752444267273),\n",
       " ('Seoul', 0.8631364703178406),\n",
       " ('Osaka_Japan', 0.8545601963996887),\n",
       " ('Chiyoda_Ward', 0.8506827354431152),\n",
       " ('Takamatsu', 0.8505285382270813),\n",
       " ('Shibuya', 0.8454674482345581),\n",
       " ('Yokohama', 0.8449800610542297)]"
      ]
     },
     "execution_count": 120,
     "metadata": {},
     "output_type": "execute_result"
    }
   ],
   "source": [
    "word2vec.most_similar_cosmul(positive=['Paris', 'Japan'], negative=['France']) # Tokyo"
   ]
  },
  {
   "cell_type": "code",
   "execution_count": 121,
   "id": "e90d93ae-03e6-4c5b-995b-1fecae31e663",
   "metadata": {},
   "outputs": [
    {
     "data": {
      "text/plain": [
       "[('winter', 1.0407880544662476),\n",
       " ('autumn', 0.9751072525978088),\n",
       " ('winters', 0.9374911785125732),\n",
       " ('spring', 0.9363545179367065),\n",
       " ('winter-spring', 0.931779682636261),\n",
       " ('mid-winter', 0.9307944178581238),\n",
       " ('mid-summer', 0.9232950806617737),\n",
       " ('midwinter', 0.9142595529556274),\n",
       " ('summer-autumn', 0.911465048789978),\n",
       " ('summertime', 0.9107939004898071)]"
      ]
     },
     "execution_count": 121,
     "metadata": {},
     "output_type": "execute_result"
    }
   ],
   "source": [
    "fasttext_model.most_similar_cosmul(positive=['summer', 'cold'], negative=['hot']) # winter"
   ]
  },
  {
   "cell_type": "code",
   "execution_count": 122,
   "id": "65daab6d-8dd9-45a6-bef4-538985d82b6d",
   "metadata": {},
   "outputs": [
    {
     "data": {
      "text/plain": [
       "[('sipping_latte', 0.8245473504066467),\n",
       " ('sipping_sangria', 0.8244499564170837),\n",
       " ('snorkelling_gear', 0.7996906042098999),\n",
       " ('sink_aerators', 0.7994495630264282),\n",
       " ('intracoastal', 0.7976593375205994),\n",
       " ('unidirectional_flushing', 0.7972959876060486),\n",
       " ('piña_coladas', 0.7964537143707275),\n",
       " ('floatie', 0.7947352528572083),\n",
       " ('lattes', 0.7947350740432739),\n",
       " ('Widgi_Creek', 0.7934110760688782)]"
      ]
     },
     "execution_count": 122,
     "metadata": {},
     "output_type": "execute_result"
    }
   ],
   "source": [
    "word2vec.most_similar_cosmul(positive=['latte', 'water'], negative=['milk']) # americano"
   ]
  },
  {
   "cell_type": "code",
   "execution_count": 123,
   "id": "b66f41a6-5668-4940-86fd-8c02cd95b7dd",
   "metadata": {},
   "outputs": [
    {
     "data": {
      "text/plain": [
       "[('guidance_counselor', 1.0179476737976074),\n",
       " ('PE_teacher', 0.9491869807243347),\n",
       " ('schoolteacher', 0.9329479336738586),\n",
       " ('educator', 0.9072681665420532),\n",
       " ('instructor', 0.9034081101417542),\n",
       " ('phys_ed_teacher', 0.8917819261550903),\n",
       " ('tutor', 0.8904038667678833),\n",
       " ('homeroom_teacher', 0.8864405155181885),\n",
       " ('counselor', 0.8741616010665894),\n",
       " ('Teacher', 0.8697322010993958)]"
      ]
     },
     "execution_count": 123,
     "metadata": {},
     "output_type": "execute_result"
    }
   ],
   "source": [
    "word2vec.most_similar_cosmul(positive=['doctor', 'teacher'], negative=['hospital']) # school"
   ]
  },
  {
   "cell_type": "code",
   "execution_count": null,
   "id": "963bca79-0a05-4724-974d-fb7b953beb2c",
   "metadata": {},
   "outputs": [],
   "source": []
  }
 ],
 "metadata": {
  "kernelspec": {
   "display_name": "Python 3 (ipykernel)",
   "language": "python",
   "name": "python3"
  },
  "language_info": {
   "codemirror_mode": {
    "name": "ipython",
    "version": 3
   },
   "file_extension": ".py",
   "mimetype": "text/x-python",
   "name": "python",
   "nbconvert_exporter": "python",
   "pygments_lexer": "ipython3",
   "version": "3.11.2"
  }
 },
 "nbformat": 4,
 "nbformat_minor": 5
}
