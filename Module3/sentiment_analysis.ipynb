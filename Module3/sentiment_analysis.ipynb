{
 "cells": [
  {
   "cell_type": "code",
   "execution_count": 24,
   "id": "2079268f-58ee-4fe7-a2e7-e2c87b0b1e9e",
   "metadata": {
    "scrolled": true
   },
   "outputs": [],
   "source": [
    "# !pip3 install datasets\n",
    "# !pip3 install torch"
   ]
  },
  {
   "cell_type": "code",
   "execution_count": 26,
   "id": "b45ff0db-f529-43a3-bb98-938401151d55",
   "metadata": {},
   "outputs": [],
   "source": [
    "import torch\n",
    "import torch.nn as nn\n",
    "import torch.optim as optim\n",
    "from torch.utils.data import DataLoader\n",
    "from torchtext.data.utils import get_tokenizer\n",
    "from torchtext.vocab import build_vocab_from_iterator\n",
    "from torch.nn.utils.rnn import pad_sequence"
   ]
  },
  {
   "cell_type": "code",
   "execution_count": 25,
   "id": "e09dac3d-4e39-43a1-9a63-93e25f46d12f",
   "metadata": {},
   "outputs": [],
   "source": [
    "from gensim.models import KeyedVectors\n",
    "\n",
    "#TODO: replace the path with your embedding model on your computer \n",
    "word2vec_model_path = '~/gensim-data/word2vec-google-news-300/word2vec-google-news-300.gz'\n",
    "word2vec_model = KeyedVectors.load_word2vec_format(word2vec_model_path, binary=True)\n"
   ]
  },
  {
   "cell_type": "code",
   "execution_count": 27,
   "id": "be1a34c4-19e0-44e5-8319-ebda1c6f0404",
   "metadata": {},
   "outputs": [],
   "source": [
    "from datasets import load_dataset\n",
    "dataset = load_dataset(\"imdb\", split='train')\n",
    "\n",
    "#Tokenizer\n",
    "tokenizer = get_tokenizer('basic_english')\n",
    "\n",
    "# Build vocabulary\n",
    "def yield_tokens(data_iter):\n",
    "    for text in data_iter:\n",
    "        yield tokenizer(text)\n",
    "\n",
    "vocab = build_vocab_from_iterator(yield_tokens(dataset['text']), specials=[\"<unk>\", \"<pad>\"])\n",
    "vocab.set_default_index(vocab[\"<unk>\"])"
   ]
  },
  {
   "cell_type": "code",
   "execution_count": 58,
   "id": "fdcb2bc0-df31-4fe0-9df8-d005e2fac4a0",
   "metadata": {},
   "outputs": [
    {
     "data": {
      "text/plain": [
       "(25000, 2)"
      ]
     },
     "execution_count": 58,
     "metadata": {},
     "output_type": "execute_result"
    }
   ],
   "source": [
    "dataset.shape"
   ]
  },
  {
   "cell_type": "code",
   "execution_count": 60,
   "id": "4c8b4a68-dd41-4719-9526-0888602a6be8",
   "metadata": {},
   "outputs": [
    {
     "data": {
      "text/plain": [
       "{'text': 'I rented I AM CURIOUS-YELLOW from my video store because of all the controversy that surrounded it when it was first released in 1967. I also heard that at first it was seized by U.S. customs if it ever tried to enter this country, therefore being a fan of films considered \"controversial\" I really had to see this for myself.<br /><br />The plot is centered around a young Swedish drama student named Lena who wants to learn everything she can about life. In particular she wants to focus her attentions to making some sort of documentary on what the average Swede thought about certain political issues such as the Vietnam War and race issues in the United States. In between asking politicians and ordinary denizens of Stockholm about their opinions on politics, she has sex with her drama teacher, classmates, and married men.<br /><br />What kills me about I AM CURIOUS-YELLOW is that 40 years ago, this was considered pornographic. Really, the sex and nudity scenes are few and far between, even then it\\'s not shot like some cheaply made porno. While my countrymen mind find it shocking, in reality sex and nudity are a major staple in Swedish cinema. Even Ingmar Bergman, arguably their answer to good old boy John Ford, had sex scenes in his films.<br /><br />I do commend the filmmakers for the fact that any sex shown in the film is shown for artistic purposes rather than just to shock people and make money to be shown in pornographic theaters in America. I AM CURIOUS-YELLOW is a good film for anyone wanting to study the meat and potatoes (no pun intended) of Swedish cinema. But really, this film doesn\\'t have much of a plot.',\n",
       " 'label': 0}"
      ]
     },
     "execution_count": 60,
     "metadata": {},
     "output_type": "execute_result"
    }
   ],
   "source": [
    "dataset[0]"
   ]
  },
  {
   "cell_type": "code",
   "execution_count": 28,
   "id": "e3aa37f5-9381-4e2a-af05-7dda54a84b39",
   "metadata": {},
   "outputs": [],
   "source": [
    "embedding_dim = 300  # Word2Vec vector size\n",
    "weight_matrix = torch.zeros(len(vocab), embedding_dim)\n",
    "\n",
    "for word, index in vocab.get_stoi().items():\n",
    "    try:\n",
    "        word_vector = word2vec_model[word]\n",
    "        weight_matrix[index] = torch.from_numpy(word_vector).clone()\n",
    "    except KeyError:\n",
    "        # For words not in Word2Vec, initialize randomly\n",
    "        weight_matrix[index] = torch.randn(embedding_dim)\n"
   ]
  },
  {
   "cell_type": "code",
   "execution_count": 29,
   "id": "13ccfb6d-6eb0-428f-9dbc-402242649b9a",
   "metadata": {},
   "outputs": [],
   "source": [
    "# Build the Sentiment Model\n",
    "class SentimentModel(nn.Module):\n",
    "    def __init__(self, embedding_dim, hidden_dim, output_dim, vocab_size, weight_matrix):\n",
    "        super().__init__()\n",
    "        self.embedding = nn.Embedding(vocab_size, embedding_dim)\n",
    "        self.embedding.load_state_dict({'weight': weight_matrix})\n",
    "        self.embedding.weight.requires_grad = True\n",
    "        self.lstm = nn.LSTM(embedding_dim, hidden_dim)\n",
    "        self.fc = nn.Linear(hidden_dim, output_dim)\n",
    "    \n",
    "    def forward(self, text):\n",
    "        embedded = self.embedding(text)\n",
    "        _, (hidden, _) = self.lstm(embedded)\n",
    "        return self.fc(hidden.squeeze(0))\n",
    "\n",
    "# Prepare DataLoader\n",
    "def collate_batch(batch):\n",
    "    label_list, text_list = [], []\n",
    "    for _text, _label in batch:\n",
    "        processed_text = [vocab[token] for token in tokenizer(_text)]\n",
    "        label_list.append(_label)\n",
    "        text_list.append(torch.tensor(processed_text, dtype=torch.int64))\n",
    "    return pad_sequence(text_list, padding_value=vocab[\"<pad>\"]), torch.tensor(label_list, dtype=torch.float32)\n",
    "\n",
    "train_dataset = list(zip(dataset['text'], dataset['label']))\n",
    "train_loader = DataLoader(train_dataset, batch_size=8, shuffle=True, collate_fn=collate_batch)\n",
    "\n",
    "model = SentimentModel(embedding_dim, 256, 1, len(vocab), weight_matrix)\n",
    "\n",
    "optimizer = optim.Adam(model.parameters())\n",
    "criterion = nn.BCEWithLogitsLoss() #loss function\n"
   ]
  },
  {
   "cell_type": "code",
   "execution_count": 30,
   "id": "de03165e-8985-4de1-9e78-ace680b83ff2",
   "metadata": {},
   "outputs": [
    {
     "name": "stdout",
     "output_type": "stream",
     "text": [
      "Epoch 1, Average Loss: 0.6925777795410156\n",
      "Epoch 2, Average Loss: 0.6794356470489502\n",
      "Epoch 3, Average Loss: 0.39065737891197205\n"
     ]
    }
   ],
   "source": [
    "num_epochs = 3\n",
    "\n",
    "for epoch in range(num_epochs):\n",
    "    total_loss = 0\n",
    "    for texts, labels in train_loader:\n",
    "        optimizer.zero_grad()\n",
    "        predictions = model(texts).squeeze(1)\n",
    "        loss = criterion(predictions, labels)\n",
    "        loss.backward()\n",
    "        optimizer.step()\n",
    "        total_loss += loss.item()\n",
    "    print(f\"Epoch {epoch+1}, Average Loss: {total_loss / len(train_loader)}\")\n"
   ]
  },
  {
   "cell_type": "code",
   "execution_count": 45,
   "id": "25bab701-4019-48a7-9b05-2910f7436771",
   "metadata": {},
   "outputs": [
    {
     "name": "stdout",
     "output_type": "stream",
     "text": [
      "Sentiment Analysis: Positive\n"
     ]
    }
   ],
   "source": [
    "def predict_sentiment(model, sentence):\n",
    "    model.eval() \n",
    "    tokens = [vocab[token] for token in tokenizer(sentence)]\n",
    "    padded_tokens = pad_sequence([torch.tensor(tokens, dtype=torch.int64)], padding_value=vocab[\"<pad>\"])\n",
    "    with torch.no_grad():\n",
    "        prediction = torch.sigmoid(model(padded_tokens))\n",
    "    return prediction.item()\n"
   ]
  },
  {
   "cell_type": "code",
   "execution_count": 54,
   "id": "d5791c2f-92f9-4a97-aebe-96f83323b232",
   "metadata": {},
   "outputs": [
    {
     "name": "stdout",
     "output_type": "stream",
     "text": [
      "Positive\n",
      "0.8908994197845459\n"
     ]
    }
   ],
   "source": [
    "# Example usage\n",
    "sentence = \"This is the best movie!\"\n",
    "prediction = predict_sentiment(model, sentence)\n",
    "print('Positive' if prediction > 0.5 else 'Negative')\n",
    "print(prediction)"
   ]
  },
  {
   "cell_type": "code",
   "execution_count": 62,
   "id": "ca0284cb-ec4a-4580-887a-5fb2f4ce6177",
   "metadata": {},
   "outputs": [
    {
     "name": "stdout",
     "output_type": "stream",
     "text": [
      "Negative\n",
      "0.036396417766809464\n"
     ]
    }
   ],
   "source": [
    "# Example usage\n",
    "sentence = \"Worst thing I've watched\"\n",
    "prediction = predict_sentiment(model, sentence)\n",
    "print('Positive' if prediction > 0.5 else 'Negative')\n",
    "print(prediction)"
   ]
  },
  {
   "cell_type": "code",
   "execution_count": 57,
   "id": "2798d7bd-ce22-447e-8461-f4a777ee8e74",
   "metadata": {},
   "outputs": [
    {
     "name": "stdout",
     "output_type": "stream",
     "text": [
      "Positive\n",
      "0.7404760718345642\n"
     ]
    }
   ],
   "source": [
    "# Example usage\n",
    "sentence = \"I don't think this is a good movie\"\n",
    "prediction = predict_sentiment(model, sentence)\n",
    "print('Positive' if prediction > 0.5 else 'Negative')\n",
    "print(prediction)"
   ]
  },
  {
   "cell_type": "code",
   "execution_count": null,
   "id": "74761b8f-1e80-42ba-8082-b1eb1ece7224",
   "metadata": {},
   "outputs": [],
   "source": []
  }
 ],
 "metadata": {
  "kernelspec": {
   "display_name": "Python 3 (ipykernel)",
   "language": "python",
   "name": "python3"
  },
  "language_info": {
   "codemirror_mode": {
    "name": "ipython",
    "version": 3
   },
   "file_extension": ".py",
   "mimetype": "text/x-python",
   "name": "python",
   "nbconvert_exporter": "python",
   "pygments_lexer": "ipython3",
   "version": "3.11.2"
  }
 },
 "nbformat": 4,
 "nbformat_minor": 5
}
