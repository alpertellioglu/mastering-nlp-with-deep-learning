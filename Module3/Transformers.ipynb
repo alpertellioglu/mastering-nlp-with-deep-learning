{
 "cells": [
  {
   "cell_type": "code",
   "execution_count": null,
   "id": "56213c1d-ad54-449b-9d6c-b40ccfd0b18a",
   "metadata": {},
   "outputs": [],
   "source": [
    "# !pip3 install transformers"
   ]
  },
  {
   "cell_type": "code",
   "execution_count": 1,
   "id": "ca45893d-17dd-4961-995f-d75fdac4f1b7",
   "metadata": {
    "scrolled": true
   },
   "outputs": [],
   "source": [
    "from transformers import pipeline"
   ]
  },
  {
   "cell_type": "markdown",
   "id": "34b01edd-94fe-4e08-ac1b-41cb84f7924b",
   "metadata": {},
   "source": [
    "## Bert Sentiment Analysis"
   ]
  },
  {
   "cell_type": "code",
   "execution_count": 2,
   "id": "610cc2a8-1aeb-4d89-a37d-a0f6838194df",
   "metadata": {},
   "outputs": [
    {
     "name": "stderr",
     "output_type": "stream",
     "text": [
      "No model was supplied, defaulted to distilbert-base-uncased-finetuned-sst-2-english and revision af0f99b (https://huggingface.co/distilbert-base-uncased-finetuned-sst-2-english).\n",
      "Using a pipeline without specifying a model name and revision in production is not recommended.\n"
     ]
    }
   ],
   "source": [
    "bert_classifier = pipeline(\"sentiment-analysis\")"
   ]
  },
  {
   "cell_type": "code",
   "execution_count": 3,
   "id": "fec89ebd-6f17-4598-a07f-adbeebf54b70",
   "metadata": {},
   "outputs": [
    {
     "data": {
      "text/plain": [
       "[{'label': 'POSITIVE', 'score': 0.9998493194580078}]"
      ]
     },
     "execution_count": 3,
     "metadata": {},
     "output_type": "execute_result"
    }
   ],
   "source": [
    "bert_classifier(\"This is the best movie ever!\")"
   ]
  },
  {
   "cell_type": "code",
   "execution_count": 4,
   "id": "00fc9404-c186-4b91-b735-a5bd9963fbd6",
   "metadata": {},
   "outputs": [
    {
     "data": {
      "text/plain": [
       "[{'label': 'NEGATIVE', 'score': 0.9997310042381287}]"
      ]
     },
     "execution_count": 4,
     "metadata": {},
     "output_type": "execute_result"
    }
   ],
   "source": [
    "bert_classifier(\"This is the worst movie ever!\")"
   ]
  },
  {
   "cell_type": "code",
   "execution_count": 5,
   "id": "39788473-3564-4942-b935-1c7bb393fe9e",
   "metadata": {},
   "outputs": [
    {
     "data": {
      "text/plain": [
       "[{'label': 'POSITIVE', 'score': 0.9990652203559875}]"
      ]
     },
     "execution_count": 5,
     "metadata": {},
     "output_type": "execute_result"
    }
   ],
   "source": [
    "bert_classifier(\"This movie was not bad\")"
   ]
  },
  {
   "cell_type": "markdown",
   "id": "7ae6bf21-c12b-4cdc-9177-6a6cf915f621",
   "metadata": {},
   "source": [
    "## Using other models"
   ]
  },
  {
   "cell_type": "code",
   "execution_count": 6,
   "id": "ee3fa1aa-5895-4847-b32c-946c791f48ab",
   "metadata": {},
   "outputs": [],
   "source": [
    "distilled_student_sentiment_classifier = pipeline(\"sentiment-analysis\", \n",
    "    model=\"lxyuan/distilbert-base-multilingual-cased-sentiments-student\", \n",
    ")"
   ]
  },
  {
   "cell_type": "code",
   "execution_count": 7,
   "id": "148fe1cb-d639-4569-952f-86b2f09cc803",
   "metadata": {},
   "outputs": [
    {
     "data": {
      "text/plain": [
       "[{'label': 'positive', 'score': 0.9686673879623413}]"
      ]
     },
     "execution_count": 7,
     "metadata": {},
     "output_type": "execute_result"
    }
   ],
   "source": [
    "distilled_student_sentiment_classifier(\"this movie is perfect\")"
   ]
  },
  {
   "cell_type": "code",
   "execution_count": 8,
   "id": "6e8287db-eb97-46b8-bc16-44e05a380ec5",
   "metadata": {},
   "outputs": [
    {
     "data": {
      "text/plain": [
       "[{'label': 'positive', 'score': 0.6649580001831055}]"
      ]
     },
     "execution_count": 8,
     "metadata": {},
     "output_type": "execute_result"
    }
   ],
   "source": [
    "distilled_student_sentiment_classifier(\"This movie was not bad\")"
   ]
  },
  {
   "cell_type": "markdown",
   "id": "c823f08a-4f20-4908-bcd2-866ae814c343",
   "metadata": {},
   "source": [
    "## Named Entity Recognizer"
   ]
  },
  {
   "cell_type": "code",
   "execution_count": 9,
   "id": "24dd2441-b59b-4332-9a3a-001fc85a8ff7",
   "metadata": {},
   "outputs": [],
   "source": [
    "# Example usage of AutoTokenizer\n",
    "\n",
    "# from transformers import AutoModelForTokenClassification, AutoTokenizer\n",
    "# model = AutoModelForTokenClassification.from_pretrained(\"dbmdz/bert-large-cased-finetuned-conll03-english\")\n",
    "# tokenizer = AutoTokenizer.from_pretrained(\"bert-base-cased\")\n",
    "# recognizer = pipeline(\"ner\", model=model, tokenizer=tokenizer)\n",
    "\n",
    "#Note: the model is 1.3GB. If you run the code, it will be downloaded."
   ]
  },
  {
   "cell_type": "markdown",
   "id": "8c73e1ec-4623-4367-9f51-95878640684d",
   "metadata": {},
   "source": [
    "## Available Pipelines on HuggingFace"
   ]
  },
  {
   "cell_type": "markdown",
   "id": "9363c3b1-1c1d-4154-8f77-149fde6017f4",
   "metadata": {},
   "source": [
    "- `feature-extraction`\n",
    "- `fill-mask`\n",
    "- `ner` (named entity recognition)\n",
    "- `question-answering`\n",
    "- `sentiment-analysis`\n",
    "- `summarization`\n",
    "- `text-generation`\n",
    "- `translation`\n",
    "- `zero-shot-classification`\n",
    "\n",
    "  source: https://huggingface.co/docs/transformers/main_classes/pipelines"
   ]
  },
  {
   "cell_type": "markdown",
   "id": "354ae983-45d9-4e6a-b8c7-d358d158f147",
   "metadata": {},
   "source": [
    "## GPT"
   ]
  },
  {
   "cell_type": "code",
   "execution_count": 10,
   "id": "e29ae871-bf83-4026-9816-95b87da0b654",
   "metadata": {
    "scrolled": true
   },
   "outputs": [
    {
     "name": "stderr",
     "output_type": "stream",
     "text": [
      "Setting `pad_token_id` to `eos_token_id`:50256 for open-end generation.\n"
     ]
    },
    {
     "data": {
      "text/plain": [
       "[{'generated_text': 'This Pluralsight course is great for new people looking at the world of photography, and is geared towards students who are interested in the art and'},\n",
       " {'generated_text': 'This Pluralsight course is great for you, and will help you learn how to apply new skills and tools. With this new course, you'},\n",
       " {'generated_text': 'This Pluralsight course is great for anyone to take for free, with a single registration. For a full introduction/course descriptions refer to the'},\n",
       " {'generated_text': 'This Pluralsight course is great for kids, we want them to go to the library. We need to make sure students understand their course before'},\n",
       " {'generated_text': \"This Pluralsight course is great for students like myself. We'd like to teach each others techniques or give them lessons from the past to get\"}]"
      ]
     },
     "execution_count": 10,
     "metadata": {},
     "output_type": "execute_result"
    }
   ],
   "source": [
    "from transformers import set_seed\n",
    "generator = pipeline('text-generation', model='gpt2')\n",
    "set_seed(42) #this line is for you to get the same results, remove it if you want randomness\n",
    "generator(\"This Pluralsight course is great\", max_length=30, num_return_sequences=5)"
   ]
  },
  {
   "cell_type": "code",
   "execution_count": null,
   "id": "f9cf7278-1b0c-47f5-9311-1ed2a06c4b3a",
   "metadata": {},
   "outputs": [],
   "source": []
  },
  {
   "cell_type": "code",
   "execution_count": null,
   "id": "cc02175b-121b-40c8-85f2-8815cdac1837",
   "metadata": {},
   "outputs": [],
   "source": []
  }
 ],
 "metadata": {
  "kernelspec": {
   "display_name": "Python 3 (ipykernel)",
   "language": "python",
   "name": "python3"
  },
  "language_info": {
   "codemirror_mode": {
    "name": "ipython",
    "version": 3
   },
   "file_extension": ".py",
   "mimetype": "text/x-python",
   "name": "python",
   "nbconvert_exporter": "python",
   "pygments_lexer": "ipython3",
   "version": "3.11.2"
  }
 },
 "nbformat": 4,
 "nbformat_minor": 5
}
