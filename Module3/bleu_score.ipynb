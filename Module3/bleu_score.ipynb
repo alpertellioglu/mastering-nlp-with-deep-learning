{
 "cells": [
  {
   "cell_type": "code",
   "execution_count": 18,
   "id": "a0a884cc-a31f-4700-a100-de584f3e4ba3",
   "metadata": {},
   "outputs": [
    {
     "name": "stdout",
     "output_type": "stream",
     "text": [
      "BLEU score for Translation 1: 1.0\n",
      "BLEU score for Translation 2: 0.18651176671349295\n",
      "BLEU score for Translation 3: 0.03849815007763549\n"
     ]
    }
   ],
   "source": [
    "import nltk\n",
    "from nltk.translate.bleu_score import sentence_bleu\n",
    "from nltk.translate.bleu_score import SmoothingFunction\n",
    "\n",
    "# Original sentence in French: \n",
    "# \"Le chat mange une pomme sous l'arbre.\"\n",
    "\n",
    "# Multiple reference translations in English\n",
    "references = [\n",
    "    \"The cat eats an apple under the tree.\".split(),\n",
    "    \"Beneath the tree, a cat is eating an apple.\".split(),\n",
    "    \"An apple is being eaten by the cat under the tree.\".split()\n",
    "]\n",
    "\n",
    "# Machine Translated versions\n",
    "translation1 = \"The cat eats an apple under the tree.\".split()\n",
    "translation2 = \"The apple is eaten by the cat.\".split()\n",
    "translation3 = \"Dog eats apple in the house.\".split()\n",
    "\n",
    "\n",
    "#Smoothing Function\n",
    "chencherry = SmoothingFunction()\n",
    "\n",
    "# Calculating BLEU scores with smoothing\n",
    "score1 = sentence_bleu(references, translation1, smoothing_function=chencherry.method1)\n",
    "score2 = sentence_bleu(references, translation2, smoothing_function=chencherry.method1)\n",
    "score3 = sentence_bleu(references, translation3, smoothing_function=chencherry.method1)\n",
    "\n",
    "# Printing the BLEU scores\n",
    "print(f\"BLEU score for Translation 1: {score1}\")\n",
    "print(f\"BLEU score for Translation 2: {score2}\")\n",
    "print(f\"BLEU score for Translation 3: {score3}\")\n"
   ]
  },
  {
   "cell_type": "code",
   "execution_count": null,
   "id": "1f071eb3-d08a-4e5b-adba-940b151cd763",
   "metadata": {},
   "outputs": [],
   "source": []
  }
 ],
 "metadata": {
  "kernelspec": {
   "display_name": "Python 3 (ipykernel)",
   "language": "python",
   "name": "python3"
  },
  "language_info": {
   "codemirror_mode": {
    "name": "ipython",
    "version": 3
   },
   "file_extension": ".py",
   "mimetype": "text/x-python",
   "name": "python",
   "nbconvert_exporter": "python",
   "pygments_lexer": "ipython3",
   "version": "3.11.2"
  }
 },
 "nbformat": 4,
 "nbformat_minor": 5
}
